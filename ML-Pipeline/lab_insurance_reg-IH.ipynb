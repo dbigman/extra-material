{
 "cells": [
  {
   "cell_type": "markdown",
   "metadata": {},
   "source": [
    "<h1><center>Supervised ML Regression Competition</center></h1>\n",
    "\n",
    "\n",
    "<img align=\"center\" src=\"https://compraracciones.com/wp-content/uploads/2021/04/insurance.jpg\" style=\"height:200px\" style=\"width:100px\"/>\n",
    "\n",
    "<hr style=\"border:2px solid pink\"> </hr>\n",
    "\n",
    "You have been assigned the task of building a model that will predict the insurance cost\n",
    "\n",
    "You'll find the data in the csv file `insurance`\n",
    "\n",
    "\n",
    "- target col: \"charges\"\n",
    "\n",
    "\n",
    "<hr style=\"border:2px solid pink\"> </hr>\n",
    "\n",
    "\n",
    "**Guidelines:** \n",
    "\n",
    "\n",
    "- train_test_split\n",
    "    - random state = 42\n",
    "    - test size = 0.3\n",
    "\n",
    "\n",
    "- The one who gets the highest r2-score on test data wins\n"
   ]
  },
  {
   "cell_type": "code",
   "execution_count": 1,
   "metadata": {},
   "outputs": [
    {
     "name": "stderr",
     "output_type": "stream",
     "text": [
      "/Users/HanifDS/miniforge3/envs/env_tf2/lib/python3.9/site-packages/scipy/__init__.py:146: UserWarning: A NumPy version >=1.16.5 and <1.23.0 is required for this version of SciPy (detected version 1.23.3\n",
      "  warnings.warn(f\"A NumPy version >={np_minversion} and <{np_maxversion}\"\n"
     ]
    }
   ],
   "source": []
  },
  {
   "cell_type": "markdown",
   "metadata": {},
   "source": [
    "## 1. Initial Data Exploration\n",
    "\n",
    "Let's start by loading our dataset and taking a first look at it.\n"
   ]
  },
  {
   "cell_type": "code",
   "execution_count": null,
   "metadata": {},
   "outputs": [],
   "source": []
  },
  {
   "cell_type": "markdown",
   "metadata": {},
   "source": [
    "## 2. Checking for Missing Values\n",
    "\n",
    "It's important to know if our data has any missing values. Let's check that next.\n"
   ]
  },
  {
   "cell_type": "code",
   "execution_count": null,
   "metadata": {},
   "outputs": [],
   "source": []
  },
  {
   "cell_type": "markdown",
   "metadata": {},
   "source": [
    "\n",
    "## 3. Descriptive Statistics\n",
    "\n",
    "Now, let's move on to some descriptive statistics.\n",
    "\n",
    "Understanding the distribution of our data is crucial. Let's calculate some descriptive statistics.\n"
   ]
  },
  {
   "cell_type": "code",
   "execution_count": null,
   "metadata": {},
   "outputs": [],
   "source": []
  },
  {
   "cell_type": "markdown",
   "metadata": {},
   "source": [
    "## 4. Distribution Analysis\n",
    "\n",
    "Visualizing the distributions of our features can provide valuable insights. Let's plot the distributions for 'age', 'bmi', and 'charges'.\n",
    "\n",
    "### Task:\n",
    "- Plot the histogram for 'age'\n",
    "- Plot the histogram for 'bmi'\n",
    "- Plot the histogram for 'charges'\n"
   ]
  },
  {
   "cell_type": "code",
   "execution_count": null,
   "metadata": {},
   "outputs": [],
   "source": []
  },
  {
   "cell_type": "markdown",
   "metadata": {},
   "source": [
    "## 5. Relationship Between Variables\n",
    "\n",
    "Let's explore the relationship between some of our features and the target variable 'charges'. We'll create scatter plots to visualize these relationships.\n",
    "\n",
    "### Task:\n",
    "- Create a scatter plot for 'age' vs 'charges'\n",
    "- Create a scatter plot for 'bmi' vs 'charges'\n",
    "- Create a scatter plot for 'children' vs 'charges'\n"
   ]
  },
  {
   "cell_type": "code",
   "execution_count": null,
   "metadata": {},
   "outputs": [],
   "source": []
  },
  {
   "cell_type": "markdown",
   "metadata": {},
   "source": [
    "## 6. Categorical Analysis\n",
    "\n",
    "Let's analyze the categorical features 'sex', 'smoker', and 'region' to see how they relate to 'charges'.\n",
    "\n",
    "### Task:\n",
    "- Plot the distribution of 'charges' for different 'sex'\n",
    "- Plot the distribution of 'charges' for different 'smoker'\n",
    "- Plot the distribution of 'charges' for different 'region'\n"
   ]
  },
  {
   "cell_type": "code",
   "execution_count": null,
   "metadata": {},
   "outputs": [],
   "source": []
  },
  {
   "cell_type": "markdown",
   "metadata": {},
   "source": [
    "## 7. Correlation Analysis\n",
    "\n",
    "To understand how our numerical features relate to each other and to the target variable, let's calculate and visualize the correlation matrix.\n",
    "\n",
    "### Task:\n",
    "- Calculate the correlation matrix for the dataset\n",
    "- Visualize the correlation matrix using a heatmap\n"
   ]
  },
  {
   "cell_type": "code",
   "execution_count": null,
   "metadata": {},
   "outputs": [],
   "source": []
  },
  {
   "cell_type": "markdown",
   "metadata": {},
   "source": [
    "## 8. Categorical Analysis\n",
    "\n",
    "Let's analyze the 'Male' column to see the distribution of male and female users and how it relates to 'Clicked on Ad'.\n",
    "\n",
    "### Task:\n",
    "- Plot the count of male vs female users\n",
    "- Plot the distribution of 'Clicked on Ad' for male and female users separately\n"
   ]
  },
  {
   "cell_type": "markdown",
   "metadata": {},
   "source": [
    "# Modelling time!"
   ]
  },
  {
   "cell_type": "markdown",
   "metadata": {},
   "source": [
    "## 1. Find the Naive Baseline\n",
    "\n",
    "Before we build any models, let's establish a naive baseline. This will help us understand how well our models perform compared to a simple approach. In regression problems, the naive baseline is often the mean of the target variable.\n",
    "\n",
    "### Task:\n",
    "- Calculate the mean of the target variable 'charges'\n",
    "- Explain why it's important to establish a naive baseline\n"
   ]
  },
  {
   "cell_type": "code",
   "execution_count": null,
   "metadata": {},
   "outputs": [],
   "source": []
  },
  {
   "cell_type": "markdown",
   "metadata": {},
   "source": [
    "## 2. Initial Modelling Without GridSearch or Pipeline\n",
    "\n",
    "Let's build a simple linear regression model without any feature engineering, grid search, or pipeline. This will serve as our initial baseline for comparison.\n",
    "\n",
    "### Task:\n",
    "- Split the data into training and test sets\n",
    "- Train a simple linear regression model\n",
    "- Evaluate its performance using regression metrics\n",
    "- Write it down as a markdown below so you can keep track. This is a scientific experiment\n"
   ]
  },
  {
   "cell_type": "markdown",
   "metadata": {},
   "source": []
  },
  {
   "cell_type": "code",
   "execution_count": null,
   "metadata": {},
   "outputs": [],
   "source": []
  },
  {
   "cell_type": "markdown",
   "metadata": {},
   "source": [
    "## 3. Feature Engineering\n",
    "\n",
    "Now, let's brainstorm and create some new features to see if we can improve the model's performance.\n",
    "\n",
    "### Questions:\n",
    "1. Should we create an interaction feature between 'bmi' and 'children'? \n",
    "2. Should we create age groups to see if the model improves by categorizing age?\n",
    "3. Should we create a high-risk indicator based on 'smoker' and 'bmi'?\n",
    "\n",
    "- Remember nothing is set in stone, this is your experiment, your hypothesis. You may not need to, but its important to explore these questions\n",
    "\n",
    "### Task:\n",
    "- Create new features based on the questions above\n",
    "- Explain the rationale behind each feature\n",
    "\n"
   ]
  },
  {
   "cell_type": "markdown",
   "metadata": {},
   "source": []
  },
  {
   "cell_type": "markdown",
   "metadata": {},
   "source": [
    "## 4. Modelling with Feature Engineering\n",
    "\n",
    "Now that we have new features, let's see if they improve our model's performance.\n",
    "Did it improve the performance? Yes? No? Why\n",
    "\n",
    "### Task:\n",
    "- Split the data into training and test sets\n",
    "- Train a linear regression model with the new features\n",
    "- Evaluate its performance using regression metrics\n"
   ]
  },
  {
   "cell_type": "code",
   "execution_count": null,
   "metadata": {},
   "outputs": [],
   "source": []
  },
  {
   "cell_type": "markdown",
   "metadata": {},
   "source": [
    "## 5. Modelling with Pipeline and Grid Search\n",
    "\n",
    "Now, let's see how using pipelines can simplify our workflow and prevent data leakage. We'll also use GridSearchCV to find the best hyperparameters.\n",
    "\n",
    "### Task:\n",
    "- Create a pipeline that includes scaling and linear regression\n",
    "- Define a parameter grid for hyperparameter tuning\n",
    "- Use GridSearchCV to find the best parameters and evaluate the model performance\n"
   ]
  },
  {
   "cell_type": "code",
   "execution_count": null,
   "metadata": {},
   "outputs": [],
   "source": []
  },
  {
   "cell_type": "markdown",
   "metadata": {},
   "source": [
    "## 6. Trying Another Model with Pipeline\n",
    "\n",
    "Let's try using a Gradient Boosting Regressor to see if it performs better.\n",
    "\n",
    "### Task:\n",
    "- Create and use a pipeline for Gradient Boosting Regressor\n",
    "- Define a parameter grid for grid search\n",
    "- Use GridSearchCV to find the best parameters and evaluate the model\n"
   ]
  },
  {
   "cell_type": "code",
   "execution_count": null,
   "metadata": {},
   "outputs": [],
   "source": []
  },
  {
   "cell_type": "markdown",
   "metadata": {},
   "source": [
    "## 7. GridSearch with Several Models\n",
    "\n",
    "Finally, let's compare several models using GridSearchCV to find the best one.\n",
    "\n",
    "### Task:\n",
    "- Define multiple models and their parameter grids\n",
    "- Use GridSearchCV to find the best model and parameters\n"
   ]
  },
  {
   "cell_type": "code",
   "execution_count": null,
   "metadata": {},
   "outputs": [],
   "source": []
  },
  {
   "cell_type": "markdown",
   "metadata": {},
   "source": [
    "# Machine Learning Bootcamp: Final Challenge\n",
    "\n",
    "## 8. Calculating Potential Cost or Loss\n",
    "\n",
    "### Challenge:\n",
    "Now that you've built and optimized your models, it's time for the final challenge! Your task is to minimize the Root Mean Squared Error (RMSE) of your model's predictions and calculate the potential financial impact of your model's errors.\n",
    "\n",
    "### Task:\n",
    "1. Calculate the RMSE of your final model's predictions.\n",
    "2. Break down the errors into underestimation and overestimation.\n",
    "3. Calculate the total potential cost or loss to the company.\n",
    "4. Compete with your classmates to see who can achieve the lowest RMSE and financial impact!\n",
    "\n",
    "### Explanation:\n",
    "The RMSE provides an estimate of the average error in your model's predictions. We will also analyze the errors by categorizing them into underestimations and overestimations to understand their financial impact.\n",
    "\n",
    "#### Steps to Calculate Underestimation and Overestimation Errors:\n",
    "\n",
    "1. **Calculate RMSE**:\n",
    "   - Use the `mean_squared_error` function from `sklearn.metrics` and pass your actual values (`y_test`) and predicted values (`y_pred_final`) to it.\n",
    "   - Take the square root of the result to get the RMSE.\n",
    "   \n",
    "2. **Calculate Underestimation Error**:\n",
    "   - Identify the instances where the actual charges (`y_test`) are greater than the predicted charges (`y_pred_final`).\n",
    "   - For these instances, calculate the difference between the actual and predicted charges.\n",
    "   - Sum these differences to get the total underestimation error.\n",
    "\n",
    "3. **Calculate Overestimation Error**:\n",
    "   - Identify the instances where the actual charges (`y_test`) are less than the predicted charges (`y_pred_final`).\n",
    "   - For these instances, calculate the difference between the predicted and actual charges.\n",
    "   - Sum these differences to get the total overestimation error.\n",
    "\n",
    "4. **Calculate Total Potential Cost or Loss**:\n",
    "   - Add the total underestimation error and the total overestimation error to get the total potential cost or loss.\n",
    "\n",
    "### Let's see who can build the best model!\n",
    "\n",
    "#### Detailed Instructions:\n",
    "\n",
    "1. **Calculate RMSE**:\n",
    "   - Use `mean_squared_error` with `y_test` and `y_pred_final`.\n",
    "   - Use `np.sqrt` to take the square root of the result.\n",
    "\n",
    "2. **Calculate Underestimation Error**:\n",
    "   - Use a boolean condition to filter `y_test` values that are greater than `y_pred_final`.\n",
    "   - Subtract the predicted values from the actual values for these instances.\n",
    "   - Sum these differences.\n",
    "\n",
    "3. **Calculate Overestimation Error**:\n",
    "   - Use a boolean condition to filter `y_test` values that are less than `y_pred_final`.\n",
    "   - Subtract the actual values from the predicted values for these instances.\n",
    "   - Sum these differences.\n",
    "\n",
    "4. **Calculate Total Potential Cost or Loss**:\n",
    "   - Add the results of the underestimation error and overestimation error to get the total potential cost or loss.\n",
    "\n",
    "### Example Walkthrough:\n",
    "\n",
    "1. **Calculate RMSE**:\n",
    "   - `rmse = np.sqrt(mean_squared_error(y_test, y_pred_final))`\n",
    "   - This gives you the average prediction error in dollars.\n",
    "\n",
    "2. **Calculate Underestimation Error**:\n",
    "   - `underestimation_error = np.sum(y_test[y_test > y_pred_final] - y_pred_final[y_test > y_pred_final])`\n",
    "   - This gives you the total amount by which the model undercharged.\n",
    "\n",
    "3. **Calculate Overestimation Error**:\n",
    "   - `overestimation_error = np.sum(y_pred_final[y_test < y_pred_final] - y_test[y_test < y_pred_final])`\n",
    "   - This gives you the total amount by which the model overcharged.\n",
    "\n",
    "4. **Calculate Total Potential Cost or Loss**:\n",
    "   - `total_potential_loss = underestimation_error + overestimation_error`\n",
    "   - This gives you the total financial impact of the model's errors.\n",
    "\n",
    "### Leaderboard:\n",
    "Post your RMSE score and total potential cost or loss on the class leaderboard. The student with the lowest RMSE and total potential cost or loss wins bragging rights\n",
    "\n",
    "### Post Your Results \n",
    "\n",
    "-Name\n",
    "-Model Type\n",
    "-RMSE\n",
    "-Underestimation Error\n",
    "-Overestimation Error\n",
    "-Total Potential Cost/Loss\n",
    "\n",
    "\n",
    "\n"
   ]
  },
  {
   "cell_type": "code",
   "execution_count": null,
   "metadata": {},
   "outputs": [],
   "source": []
  },
  {
   "cell_type": "markdown",
   "metadata": {},
   "source": [
    "## Conclusion\n",
    "\n",
    "Congratulations! You've completed the lab. Here's a summary of what we've covered:\n",
    "1. Established a naive baseline using the mean of the target variable.\n",
    "2. Built an initial linear regression model without any feature engineering or optimization.\n",
    "3. Performed feature engineering to create new, potentially useful features.\n",
    "4. Used pipelines and GridSearchCV to optimize the model.\n",
    "5. Evaluated the final model's performance using RMSE to understand its business impact.\n",
    "\n",
    "By following these steps, you now have a robust understanding of how to approach a regression problem, from initial exploration to model optimization and business impact assessment. Great job!\n"
   ]
  },
  {
   "cell_type": "code",
   "execution_count": null,
   "metadata": {},
   "outputs": [],
   "source": []
  }
 ],
 "metadata": {
  "interpreter": {
   "hash": "ae536f6b95df49dd083f07529981141025184c1d22e3e1982b15f49841b31737"
  },
  "kernelspec": {
   "display_name": "Python 3",
   "language": "python",
   "name": "python3"
  },
  "language_info": {
   "codemirror_mode": {
    "name": "ipython",
    "version": 3
   },
   "file_extension": ".py",
   "mimetype": "text/x-python",
   "name": "python",
   "nbconvert_exporter": "python",
   "pygments_lexer": "ipython3",
   "version": "3.9.0"
  },
  "toc": {
   "base_numbering": 1,
   "nav_menu": {},
   "number_sections": false,
   "sideBar": true,
   "skip_h1_title": false,
   "title_cell": "Table of Contents",
   "title_sidebar": "Contents",
   "toc_cell": false,
   "toc_position": {},
   "toc_section_display": true,
   "toc_window_display": false
  },
  "varInspector": {
   "cols": {
    "lenName": 16,
    "lenType": 16,
    "lenVar": 40
   },
   "kernels_config": {
    "python": {
     "delete_cmd_postfix": "",
     "delete_cmd_prefix": "del ",
     "library": "var_list.py",
     "varRefreshCmd": "print(var_dic_list())"
    },
    "r": {
     "delete_cmd_postfix": ") ",
     "delete_cmd_prefix": "rm(",
     "library": "var_list.r",
     "varRefreshCmd": "cat(var_dic_list()) "
    }
   },
   "types_to_exclude": [
    "module",
    "function",
    "builtin_function_or_method",
    "instance",
    "_Feature"
   ],
   "window_display": false
  }
 },
 "nbformat": 4,
 "nbformat_minor": 4
}
